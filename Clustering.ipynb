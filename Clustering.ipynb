{
 "cells": [
  {
   "cell_type": "markdown",
   "metadata": {},
   "source": [
    "# Clustering - Using Yelp's datasets\n"
   ]
  },
  {
   "cell_type": "code",
   "execution_count": 1,
   "metadata": {},
   "outputs": [],
   "source": [
    "import numpy as np\n",
    "import scipy as sp\n",
    "import pandas as pd\n",
    "from pandas import Series, DataFrame\n",
    "\n",
    "import scipy.sparse as sp_sparse\n",
    "import scipy.spatial.distance as sp_dist\n",
    "import scipy.cluster.hierarchy as hr\n",
    "import scipy.sparse.linalg as linalg\n",
    "\n",
    "import matplotlib.pyplot as plt\n",
    "\n",
    "import sklearn as sk\n",
    "import sklearn.datasets as sk_data\n",
    "import sklearn.metrics as metrics\n",
    "from sklearn import preprocessing\n",
    "import sklearn.cluster as sk_cluster\n",
    "import sklearn.feature_extraction.text as sk_text\n",
    "from sklearn.feature_extraction import DictVectorizer\n",
    "from sklearn.preprocessing import LabelEncoder\n",
    "\n",
    "\n",
    "import re\n",
    "import random\n",
    "import time\n",
    "import seaborn as sns\n",
    "import os\n",
    "import json\n",
    "import csv \n",
    "from csv import reader\n",
    "\n",
    "\n",
    "%matplotlib inline"
   ]
  },
  {
   "cell_type": "markdown",
   "metadata": {},
   "source": [
    "From the \"yelp_academic_dataset_business.json\" dataset keep businesses from the city of Toronto with the categories \"Beauty & Spas\", \"Shopping\" and \"Bars\", which they have at least 10 reviews.\n",
    "\n",
    "For each business on the list get all the reviews for the business from the \"yelp_academic_dataset_review.json\" dataset and merge them in a great text for business."
   ]
  },
  {
   "cell_type": "code",
   "execution_count": 2,
   "metadata": {
    "scrolled": true
   },
   "outputs": [],
   "source": [
    "business = []\n",
    "\n",
    "with open(\"yelp_academic_dataset_business.json\", encoding = \"utf8\", errors = \"ignore\") as f:\n",
    "    for line in f:\n",
    "        get_line = json.loads(line)\n",
    "        business_id = get_line[\"business_id\"]\n",
    "        cat = get_line[\"categories\"]\n",
    "        # split categories from text to array\n",
    "        if cat is not None:\n",
    "            category = cat.split(\", \")\n",
    "        city = get_line[\"city\"]\n",
    "        count = get_line[\"review_count\"]\n",
    "        beauty = \"Beauty & Spas\"\n",
    "        shopping = \"Shopping\"\n",
    "        bars = \"Bars\"\n",
    "        if city == \"Toronto\" and count>=10:                    \n",
    "            if beauty in category:\n",
    "                # if Beauty & Spas\n",
    "                business.append((business_id,beauty))\n",
    "            elif shopping in category:\n",
    "                # if Shopping\n",
    "                business.append((business_id,shopping))\n",
    "            elif bars in category:\n",
    "                # if Bars\n",
    "                business.append((business_id,bars))\n",
    "               "
   ]
  },
  {
   "cell_type": "code",
   "execution_count": 4,
   "metadata": {
    "scrolled": true
   },
   "outputs": [],
   "source": [
    "# get reviews where business in Toronto\n",
    "only_bs = np.array(business)\n",
    "check_for_business = list(only_bs[:,0])\n",
    "\n",
    "reviews = []\n",
    "\n",
    "with open(\"yelp_academic_dataset_review.json\", encoding = \"utf8\", errors = \"ignore\") as f: \n",
    "    for line in f:\n",
    "        get_line = json.loads(line)\n",
    "        # get business id\n",
    "        business_id = get_line[\"business_id\"]\n",
    "        # get text of business\n",
    "        text = get_line[\"text\"]\n",
    "\n",
    "        if business_id in check_for_business:\n",
    "            reviews.append((business_id,text))\n",
    "                              "
   ]
  },
  {
   "cell_type": "code",
   "execution_count": 6,
   "metadata": {
    "scrolled": true
   },
   "outputs": [],
   "source": [
    "# for each business keep all the reviews given together in a text\n",
    "reviews_per_business = []\n",
    "\n",
    "for b in range(len(business)):\n",
    "\n",
    "    # empty text for each business\n",
    "    text_per_business=\"\"\n",
    "    for r in range(len(reviews)):\n",
    "        if business[b][0]==reviews[r][0]:\n",
    "            \n",
    "            # remove punctuation\n",
    "            text = re.sub(\"[^a-zA-Z]\",\" \",reviews[r][1])\n",
    "            # remove tags\n",
    "            text = re.sub(\"&lt;/?.*?&gt;\",\" &lt;&gt; \",text)\n",
    "            # remove special characters and digits\n",
    "            text = re.sub(\"(\\\\d|\\\\W)+\",\" \",text)\n",
    "            # lower cases only\n",
    "            text = text.lower()\n",
    "            \n",
    "            # get all texts \n",
    "            text_per_business += \" \" + text\n",
    "\n",
    "    reviews_per_business.append((business[b][0],business[b][1],text_per_business))"
   ]
  },
  {
   "cell_type": "code",
   "execution_count": 8,
   "metadata": {
    "scrolled": true
   },
   "outputs": [
    {
     "data": {
      "text/html": [
       "<div>\n",
       "<style scoped>\n",
       "    .dataframe tbody tr th:only-of-type {\n",
       "        vertical-align: middle;\n",
       "    }\n",
       "\n",
       "    .dataframe tbody tr th {\n",
       "        vertical-align: top;\n",
       "    }\n",
       "\n",
       "    .dataframe thead th {\n",
       "        text-align: right;\n",
       "    }\n",
       "</style>\n",
       "<table border=\"1\" class=\"dataframe\">\n",
       "  <thead>\n",
       "    <tr style=\"text-align: right;\">\n",
       "      <th></th>\n",
       "      <th>business_id</th>\n",
       "      <th>category</th>\n",
       "      <th>text</th>\n",
       "    </tr>\n",
       "  </thead>\n",
       "  <tbody>\n",
       "    <tr>\n",
       "      <th>0</th>\n",
       "      <td>cicPsia8Wj-DNRkmLbD_xg</td>\n",
       "      <td>Bars</td>\n",
       "      <td>consistently good as the keg tends to be high...</td>\n",
       "    </tr>\n",
       "    <tr>\n",
       "      <th>1</th>\n",
       "      <td>xVXyrTWbG8U3szze-aA7eg</td>\n",
       "      <td>Bars</td>\n",
       "      <td>i would give zero stars i came here with a gr...</td>\n",
       "    </tr>\n",
       "    <tr>\n",
       "      <th>2</th>\n",
       "      <td>e-tRKAC-q40SqQfAOwYa-A</td>\n",
       "      <td>Beauty &amp; Spas</td>\n",
       "      <td>a blissful experience i highly recommended th...</td>\n",
       "    </tr>\n",
       "    <tr>\n",
       "      <th>3</th>\n",
       "      <td>C9keC4mWuXdl2mYFHZXudQ</td>\n",
       "      <td>Shopping</td>\n",
       "      <td>if you re a boy and you want to wear some hot...</td>\n",
       "    </tr>\n",
       "    <tr>\n",
       "      <th>4</th>\n",
       "      <td>PFS9kf3U-ZCvpqay3AaNnQ</td>\n",
       "      <td>Shopping</td>\n",
       "      <td>as a country girl i often find myself missing...</td>\n",
       "    </tr>\n",
       "    <tr>\n",
       "      <th>...</th>\n",
       "      <td>...</td>\n",
       "      <td>...</td>\n",
       "      <td>...</td>\n",
       "    </tr>\n",
       "    <tr>\n",
       "      <th>2986</th>\n",
       "      <td>Cesnh6fIsAUO8D4jfGhOIw</td>\n",
       "      <td>Shopping</td>\n",
       "      <td>good tacos in the downtown core are hard to c...</td>\n",
       "    </tr>\n",
       "    <tr>\n",
       "      <th>2987</th>\n",
       "      <td>lkq6i2x3vUsR7ZNrIFqoIw</td>\n",
       "      <td>Bars</td>\n",
       "      <td>this used to be my favourite place it was alw...</td>\n",
       "    </tr>\n",
       "    <tr>\n",
       "      <th>2988</th>\n",
       "      <td>wjqOdj0XJUDOOtU9LjRlWQ</td>\n",
       "      <td>Bars</td>\n",
       "      <td>very welcoming place great setup and super fr...</td>\n",
       "    </tr>\n",
       "    <tr>\n",
       "      <th>2989</th>\n",
       "      <td>AqpB2IoLkUupDCuH-hmVdg</td>\n",
       "      <td>Shopping</td>\n",
       "      <td>i can t beleive i am saying this but i left t...</td>\n",
       "    </tr>\n",
       "    <tr>\n",
       "      <th>2990</th>\n",
       "      <td>0hudPyuCBlKg79OwKBw-eQ</td>\n",
       "      <td>Bars</td>\n",
       "      <td>we had pizza and fish chips the pizza was not...</td>\n",
       "    </tr>\n",
       "  </tbody>\n",
       "</table>\n",
       "<p>2991 rows × 3 columns</p>\n",
       "</div>"
      ],
      "text/plain": [
       "                 business_id       category  \\\n",
       "0     cicPsia8Wj-DNRkmLbD_xg           Bars   \n",
       "1     xVXyrTWbG8U3szze-aA7eg           Bars   \n",
       "2     e-tRKAC-q40SqQfAOwYa-A  Beauty & Spas   \n",
       "3     C9keC4mWuXdl2mYFHZXudQ       Shopping   \n",
       "4     PFS9kf3U-ZCvpqay3AaNnQ       Shopping   \n",
       "...                      ...            ...   \n",
       "2986  Cesnh6fIsAUO8D4jfGhOIw       Shopping   \n",
       "2987  lkq6i2x3vUsR7ZNrIFqoIw           Bars   \n",
       "2988  wjqOdj0XJUDOOtU9LjRlWQ           Bars   \n",
       "2989  AqpB2IoLkUupDCuH-hmVdg       Shopping   \n",
       "2990  0hudPyuCBlKg79OwKBw-eQ           Bars   \n",
       "\n",
       "                                                   text  \n",
       "0      consistently good as the keg tends to be high...  \n",
       "1      i would give zero stars i came here with a gr...  \n",
       "2      a blissful experience i highly recommended th...  \n",
       "3      if you re a boy and you want to wear some hot...  \n",
       "4      as a country girl i often find myself missing...  \n",
       "...                                                 ...  \n",
       "2986   good tacos in the downtown core are hard to c...  \n",
       "2987   this used to be my favourite place it was alw...  \n",
       "2988   very welcoming place great setup and super fr...  \n",
       "2989   i can t beleive i am saying this but i left t...  \n",
       "2990   we had pizza and fish chips the pizza was not...  \n",
       "\n",
       "[2991 rows x 3 columns]"
      ]
     },
     "execution_count": 8,
     "metadata": {},
     "output_type": "execute_result"
    }
   ],
   "source": [
    "# array to dataframe\n",
    "df = pd.DataFrame(data=reviews_per_business,columns=[\"business_id\",\"category\",\"text\"])\n",
    "df"
   ]
  },
  {
   "cell_type": "code",
   "execution_count": 9,
   "metadata": {
    "scrolled": true
   },
   "outputs": [],
   "source": [
    "# get text per business\n",
    "corpus = df[\"text\"].tolist()"
   ]
  },
  {
   "cell_type": "code",
   "execution_count": 10,
   "metadata": {},
   "outputs": [
    {
     "data": {
      "text/html": [
       "<div>\n",
       "<style scoped>\n",
       "    .dataframe tbody tr th:only-of-type {\n",
       "        vertical-align: middle;\n",
       "    }\n",
       "\n",
       "    .dataframe tbody tr th {\n",
       "        vertical-align: top;\n",
       "    }\n",
       "\n",
       "    .dataframe thead th {\n",
       "        text-align: right;\n",
       "    }\n",
       "</style>\n",
       "<table border=\"1\" class=\"dataframe\">\n",
       "  <thead>\n",
       "    <tr style=\"text-align: right;\">\n",
       "      <th></th>\n",
       "      <th>business_id</th>\n",
       "      <th>category</th>\n",
       "      <th>text</th>\n",
       "      <th>label</th>\n",
       "    </tr>\n",
       "  </thead>\n",
       "  <tbody>\n",
       "    <tr>\n",
       "      <th>0</th>\n",
       "      <td>cicPsia8Wj-DNRkmLbD_xg</td>\n",
       "      <td>Bars</td>\n",
       "      <td>consistently good as the keg tends to be high...</td>\n",
       "      <td>0</td>\n",
       "    </tr>\n",
       "    <tr>\n",
       "      <th>1</th>\n",
       "      <td>xVXyrTWbG8U3szze-aA7eg</td>\n",
       "      <td>Bars</td>\n",
       "      <td>i would give zero stars i came here with a gr...</td>\n",
       "      <td>0</td>\n",
       "    </tr>\n",
       "    <tr>\n",
       "      <th>2</th>\n",
       "      <td>e-tRKAC-q40SqQfAOwYa-A</td>\n",
       "      <td>Beauty &amp; Spas</td>\n",
       "      <td>a blissful experience i highly recommended th...</td>\n",
       "      <td>1</td>\n",
       "    </tr>\n",
       "    <tr>\n",
       "      <th>3</th>\n",
       "      <td>C9keC4mWuXdl2mYFHZXudQ</td>\n",
       "      <td>Shopping</td>\n",
       "      <td>if you re a boy and you want to wear some hot...</td>\n",
       "      <td>2</td>\n",
       "    </tr>\n",
       "    <tr>\n",
       "      <th>4</th>\n",
       "      <td>PFS9kf3U-ZCvpqay3AaNnQ</td>\n",
       "      <td>Shopping</td>\n",
       "      <td>as a country girl i often find myself missing...</td>\n",
       "      <td>2</td>\n",
       "    </tr>\n",
       "    <tr>\n",
       "      <th>...</th>\n",
       "      <td>...</td>\n",
       "      <td>...</td>\n",
       "      <td>...</td>\n",
       "      <td>...</td>\n",
       "    </tr>\n",
       "    <tr>\n",
       "      <th>2986</th>\n",
       "      <td>Cesnh6fIsAUO8D4jfGhOIw</td>\n",
       "      <td>Shopping</td>\n",
       "      <td>good tacos in the downtown core are hard to c...</td>\n",
       "      <td>2</td>\n",
       "    </tr>\n",
       "    <tr>\n",
       "      <th>2987</th>\n",
       "      <td>lkq6i2x3vUsR7ZNrIFqoIw</td>\n",
       "      <td>Bars</td>\n",
       "      <td>this used to be my favourite place it was alw...</td>\n",
       "      <td>0</td>\n",
       "    </tr>\n",
       "    <tr>\n",
       "      <th>2988</th>\n",
       "      <td>wjqOdj0XJUDOOtU9LjRlWQ</td>\n",
       "      <td>Bars</td>\n",
       "      <td>very welcoming place great setup and super fr...</td>\n",
       "      <td>0</td>\n",
       "    </tr>\n",
       "    <tr>\n",
       "      <th>2989</th>\n",
       "      <td>AqpB2IoLkUupDCuH-hmVdg</td>\n",
       "      <td>Shopping</td>\n",
       "      <td>i can t beleive i am saying this but i left t...</td>\n",
       "      <td>2</td>\n",
       "    </tr>\n",
       "    <tr>\n",
       "      <th>2990</th>\n",
       "      <td>0hudPyuCBlKg79OwKBw-eQ</td>\n",
       "      <td>Bars</td>\n",
       "      <td>we had pizza and fish chips the pizza was not...</td>\n",
       "      <td>0</td>\n",
       "    </tr>\n",
       "  </tbody>\n",
       "</table>\n",
       "<p>2991 rows × 4 columns</p>\n",
       "</div>"
      ],
      "text/plain": [
       "                 business_id       category  \\\n",
       "0     cicPsia8Wj-DNRkmLbD_xg           Bars   \n",
       "1     xVXyrTWbG8U3szze-aA7eg           Bars   \n",
       "2     e-tRKAC-q40SqQfAOwYa-A  Beauty & Spas   \n",
       "3     C9keC4mWuXdl2mYFHZXudQ       Shopping   \n",
       "4     PFS9kf3U-ZCvpqay3AaNnQ       Shopping   \n",
       "...                      ...            ...   \n",
       "2986  Cesnh6fIsAUO8D4jfGhOIw       Shopping   \n",
       "2987  lkq6i2x3vUsR7ZNrIFqoIw           Bars   \n",
       "2988  wjqOdj0XJUDOOtU9LjRlWQ           Bars   \n",
       "2989  AqpB2IoLkUupDCuH-hmVdg       Shopping   \n",
       "2990  0hudPyuCBlKg79OwKBw-eQ           Bars   \n",
       "\n",
       "                                                   text  label  \n",
       "0      consistently good as the keg tends to be high...      0  \n",
       "1      i would give zero stars i came here with a gr...      0  \n",
       "2      a blissful experience i highly recommended th...      1  \n",
       "3      if you re a boy and you want to wear some hot...      2  \n",
       "4      as a country girl i often find myself missing...      2  \n",
       "...                                                 ...    ...  \n",
       "2986   good tacos in the downtown core are hard to c...      2  \n",
       "2987   this used to be my favourite place it was alw...      0  \n",
       "2988   very welcoming place great setup and super fr...      0  \n",
       "2989   i can t beleive i am saying this but i left t...      2  \n",
       "2990   we had pizza and fish chips the pizza was not...      0  \n",
       "\n",
       "[2991 rows x 4 columns]"
      ]
     },
     "execution_count": 10,
     "metadata": {},
     "output_type": "execute_result"
    }
   ],
   "source": [
    "# set 0,1,2 labels for each category\n",
    "labelEnc = LabelEncoder()\n",
    "categories = labelEnc.fit_transform(df[\"category\"])\n",
    "df[\"label\"] = categories\n",
    "df"
   ]
  },
  {
   "cell_type": "code",
   "execution_count": null,
   "metadata": {},
   "outputs": [],
   "source": [
    "# get true labels\n",
    "true_labels = df[\"label\"].tolist()"
   ]
  },
  {
   "cell_type": "markdown",
   "metadata": {},
   "source": [
    "### TF-IDF"
   ]
  },
  {
   "cell_type": "code",
   "execution_count": null,
   "metadata": {},
   "outputs": [],
   "source": [
    "# The lower the value of a word, the less unique it is to any particular document.\n",
    "\n",
    "# min_df = 50, ignore terms that appeared in less than 50 documents \n",
    "# max_df = 0.7, ignore terms that appear in 70% of the documents\n",
    "\n",
    "vectorizer = sk_text.TfidfVectorizer(stop_words = 'english',min_df=50,max_df=0.70)\n",
    "X = vectorizer.fit_transform(corpus)"
   ]
  },
  {
   "cell_type": "markdown",
   "metadata": {},
   "source": [
    "# Implement Clustering using K-Means and Agglomerative clustering with those categories"
   ]
  },
  {
   "cell_type": "markdown",
   "metadata": {},
   "source": [
    "### K-Means"
   ]
  },
  {
   "cell_type": "code",
   "execution_count": 13,
   "metadata": {},
   "outputs": [
    {
     "name": "stdout",
     "output_type": "stream",
     "text": [
      "The total error of the clustering is:  2407.913275506752\n",
      "\n",
      "Cluster labels\n",
      "[0 0 1 ... 0 1 0]\n",
      "\n",
      " Cluster Centroids\n",
      "[[9.77775027e-04 4.21226766e-04 4.29845475e-04 ... 6.59178869e-04\n",
      "  3.99342158e-04 2.21388308e-03]\n",
      " [3.13331655e-04 4.54208772e-04 2.46656822e-04 ... 1.79953764e-03\n",
      "  4.49965704e-04 9.09288647e-05]\n",
      " [0.00000000e+00 3.77029557e-04 2.52558832e-04 ... 9.09072668e-04\n",
      "  1.10878316e-04 0.00000000e+00]]\n"
     ]
    }
   ],
   "source": [
    "kmeans = sk_cluster.KMeans(n_clusters=3, init='k-means++', n_init=10)\n",
    "kmeans.fit_predict(X)\n",
    "\n",
    "centroids = kmeans.cluster_centers_\n",
    "kmeans_labels = kmeans.labels_\n",
    "error = kmeans.inertia_\n",
    "\n",
    "print (\"The total error of the clustering is: \", error)\n",
    "print ('\\nCluster labels')\n",
    "print(kmeans_labels)\n",
    "print ('\\n Cluster Centroids')\n",
    "print (centroids)"
   ]
  },
  {
   "cell_type": "code",
   "execution_count": 14,
   "metadata": {
    "scrolled": true
   },
   "outputs": [
    {
     "name": "stdout",
     "output_type": "stream",
     "text": [
      "Top 20 terms per cluster:\n",
      "Cluster 0:\n",
      " food\n",
      " bar\n",
      " menu\n",
      " beer\n",
      " drinks\n",
      " ordered\n",
      " restaurant\n",
      " chicken\n",
      " night\n",
      " patio\n",
      " fries\n",
      " pub\n",
      " server\n",
      " delicious\n",
      " table\n",
      " burger\n",
      " wings\n",
      " drink\n",
      " salad\n",
      " cheese\n",
      "Cluster 1:\n",
      " store\n",
      " massage\n",
      " shop\n",
      " buy\n",
      " selection\n",
      " products\n",
      " stores\n",
      " items\n",
      " bike\n",
      " sales\n",
      " helpful\n",
      " appointment\n",
      " bought\n",
      " spa\n",
      " stuff\n",
      " help\n",
      " shopping\n",
      " room\n",
      " dress\n",
      " clothes\n",
      "Cluster 2:\n",
      " hair\n",
      " nails\n",
      " salon\n",
      " nail\n",
      " cut\n",
      " shellac\n",
      " haircut\n",
      " manicure\n",
      " stylist\n",
      " appointment\n",
      " pedicure\n",
      " mani\n",
      " polish\n",
      " pedi\n",
      " colour\n",
      " job\n",
      " gel\n",
      " barber\n",
      " massage\n",
      " salons\n"
     ]
    }
   ],
   "source": [
    "print(\"Top 20 terms per cluster:\")\n",
    "asc_order_centroids = kmeans.cluster_centers_.argsort()#[:, ::-1]\n",
    "order_centroids = asc_order_centroids[:,::-1]\n",
    "terms = vectorizer.get_feature_names()\n",
    "for i in range(3):\n",
    "    print (\"Cluster %d:\" % i)\n",
    "    for ind in order_centroids[i, :20]:\n",
    "        print (' %s' % terms[ind])\n",
    "    print"
   ]
  },
  {
   "cell_type": "code",
   "execution_count": 15,
   "metadata": {},
   "outputs": [
    {
     "name": "stdout",
     "output_type": "stream",
     "text": [
      "[[1129    2   34]\n",
      " [   0  489    0]\n",
      " [ 129  335  873]]\n"
     ]
    },
    {
     "data": {
      "text/plain": [
       "<matplotlib.collections.QuadMesh at 0x7f4a7f4a5c50>"
      ]
     },
     "execution_count": 15,
     "metadata": {},
     "output_type": "execute_result"
    },
    {
     "data": {
      "image/png": "[encoded data removed]",
      "text/plain": [
       "<Figure size 432x288 with 1 Axes>"
      ]
     },
     "metadata": {
      "needs_background": "light"
     },
     "output_type": "display_data"
    }
   ],
   "source": [
    "# get the mapping done and confusion matrix\n",
    "def cluster_class_mapping(kmeans_labels,true_labels):\n",
    "    C = metrics.confusion_matrix(kmeans_labels,true_labels)\n",
    "    #for each row (cluster) find the best class in the confusion matrix\n",
    "    mapping = list(np.argmax(C,axis=1)) \n",
    "    mapped_kmeans_labels = [mapping[l] for l in kmeans_labels]\n",
    "    C_new = metrics.confusion_matrix(mapped_kmeans_labels,true_labels)\n",
    "    return mapped_kmeans_labels,C_new\n",
    "\n",
    "mapped_kmeans_labels,C = cluster_class_mapping(kmeans_labels,true_labels)\n",
    "print(C)\n",
    "plt.pcolormesh(C, cmap=plt.cm.Reds)"
   ]
  },
  {
   "cell_type": "markdown",
   "metadata": {},
   "source": [
    "From the confusion matrix, we see that the cluster is not so good.\n",
    "At first line, the first cluster has 1129 elements from class 1 and less from other classes. Second cluster has all elements from class 2 and the third cluster is shared, most elements are from class 3 but also has from class 2 a lot and class 1.\n",
    "Now per columns, most elements of class 1 are in cluster 1, second class is shared to second and third cluster and most elements of third class are in cluster 3."
   ]
  },
  {
   "cell_type": "code",
   "execution_count": 16,
   "metadata": {
    "scrolled": true
   },
   "outputs": [
    {
     "name": "stdout",
     "output_type": "stream",
     "text": [
      "Precision per cluster\n",
      " [0.96909871 1.         0.65295438]\n",
      "\n",
      "Recall per cluster\n",
      " [0.89745628 0.59200969 0.96251378]\n",
      "\n",
      "Weighted Precision\n",
      " 0.881763891275995\n",
      "\n",
      "Weighted Recall\n",
      " 0.8328318288197927\n"
     ]
    }
   ],
   "source": [
    "# keep in array the values\n",
    "data_per_cluster = []\n",
    "data_total = []\n",
    "data_kmeans = []\n",
    "data_kmeans_total = []\n",
    "\n",
    "# precision metric per cluster\n",
    "precision_per_cluster_1 = metrics.precision_score(true_labels,mapped_kmeans_labels, average=None)\n",
    "print(\"Precision per cluster\\n\",precision_per_cluster_1)\n",
    "\n",
    "# recall metric per cluster\n",
    "recall_per_cluster_1 = metrics.recall_score(true_labels,mapped_kmeans_labels, average = None)\n",
    "print(\"\\nRecall per cluster\\n\",recall_per_cluster_1)\n",
    "\n",
    "data_per_cluster.append((\"K-means\",precision_per_cluster_1[0],precision_per_cluster_1[1],precision_per_cluster_1[2],\n",
    "                        recall_per_cluster_1[0],recall_per_cluster_1[1],recall_per_cluster_1[2]))\n",
    "\n",
    "data_kmeans.append((\"K-means, n_clusters=3\",precision_per_cluster_1[0],precision_per_cluster_1[1],precision_per_cluster_1[2],\n",
    "                    recall_per_cluster_1[0],recall_per_cluster_1[1],recall_per_cluster_1[2]))\n",
    "\n",
    "\n",
    "# total precision\n",
    "precision_total_1 = metrics.precision_score(true_labels,mapped_kmeans_labels, average='weighted')\n",
    "print(\"\\nWeighted Precision\\n\",precision_total_1)\n",
    "\n",
    "# total recall\n",
    "recall_total_1 = metrics.recall_score(true_labels,mapped_kmeans_labels, average = 'weighted')\n",
    "print(\"\\nWeighted Recall\\n\",recall_total_1)\n",
    "\n",
    "data_total.append((\"K-means\",precision_total_1,recall_total_1))\n",
    "data_kmeans_total.append((\"K-means, n_clusters=3\",precision_total_1,recall_total_1))"
   ]
  },
  {
   "cell_type": "markdown",
   "metadata": {},
   "source": [
    "### Agglomerative clustering - Single-link"
   ]
  },
  {
   "cell_type": "code",
   "execution_count": 17,
   "metadata": {
    "scrolled": true
   },
   "outputs": [
    {
     "name": "stdout",
     "output_type": "stream",
     "text": [
      "[[1258  826  904]\n",
      " [   0    0    0]\n",
      " [   0    0    3]]\n"
     ]
    },
    {
     "data": {
      "text/plain": [
       "<matplotlib.collections.QuadMesh at 0x7f4a7f35de80>"
      ]
     },
     "execution_count": 17,
     "metadata": {},
     "output_type": "execute_result"
    },
    {
     "data": {
      "image/png": "[encoded data removed]",
      "text/plain": [
       "<Figure size 432x288 with 1 Axes>"
      ]
     },
     "metadata": {
      "needs_background": "light"
     },
     "output_type": "display_data"
    }
   ],
   "source": [
    "# linkage = single-link\n",
    "\n",
    "agglo = sk_cluster.AgglomerativeClustering(linkage = 'single', n_clusters = 3)\n",
    "agglo_labels = agglo.fit_predict(X.toarray())\n",
    "\n",
    "mapped_agglo_labels,C_agglo = cluster_class_mapping(agglo_labels,true_labels)\n",
    "print(C_agglo)\n",
    "plt.pcolormesh(C_agglo, cmap=plt.cm.Reds)"
   ]
  },
  {
   "cell_type": "code",
   "execution_count": 18,
   "metadata": {},
   "outputs": [
    {
     "name": "stdout",
     "output_type": "stream",
     "text": [
      "Precision per cluster\n",
      " [0.4210174 0.        1.       ]\n",
      "\n",
      "Recall per cluster\n",
      " [1.         0.         0.00330761]\n",
      "\n",
      "Weighted Precision\n",
      " 0.4803209270828998\n",
      "\n",
      "Weighted Recall\n",
      " 0.4215981277164828\n"
     ]
    },
    {
     "name": "stderr",
     "output_type": "stream",
     "text": [
      "/home/ze/anaconda3/envs/dataEnv/lib/python3.6/site-packages/sklearn/metrics/_classification.py:1221: UndefinedMetricWarning: Precision is ill-defined and being set to 0.0 in labels with no predicted samples. Use `zero_division` parameter to control this behavior.\n",
      "  _warn_prf(average, modifier, msg_start, len(result))\n"
     ]
    }
   ],
   "source": [
    "# precision metric per cluster\n",
    "precision_per_cluster_2 = metrics.precision_score(true_labels,mapped_agglo_labels, average=None)\n",
    "print(\"Precision per cluster\\n\",precision_per_cluster_2)\n",
    "\n",
    "# recall metric per cluster\n",
    "recall_per_cluster_2 = metrics.recall_score(true_labels,mapped_agglo_labels, average = None)\n",
    "print(\"\\nRecall per cluster\\n\",recall_per_cluster_2)\n",
    "\n",
    "data_per_cluster.append((\"Agglomerative - Single\",precision_per_cluster_2[0],precision_per_cluster_2[1],precision_per_cluster_2[2],\n",
    "                        recall_per_cluster_2[0],recall_per_cluster_2[1],recall_per_cluster_2[2]))\n",
    "\n",
    "# total precision\n",
    "precision_total_2 = metrics.precision_score(true_labels,mapped_agglo_labels, average='weighted')\n",
    "print(\"\\nWeighted Precision\\n\",precision_total_2)\n",
    "\n",
    "# total recall\n",
    "recall_total_2 = metrics.recall_score(true_labels,mapped_agglo_labels, average = 'weighted')\n",
    "print(\"\\nWeighted Recall\\n\",recall_total_2)\n",
    "\n",
    "data_total.append((\"Agglomerative - Single\",precision_total_2,recall_total_2))"
   ]
  },
  {
   "cell_type": "markdown",
   "metadata": {},
   "source": [
    "### Agglomerative clustering - Complete-link"
   ]
  },
  {
   "cell_type": "code",
   "execution_count": 19,
   "metadata": {},
   "outputs": [
    {
     "name": "stdout",
     "output_type": "stream",
     "text": [
      "[[1236    3   94]\n",
      " [   6  737   18]\n",
      " [  16   86  795]]\n"
     ]
    },
    {
     "data": {
      "text/plain": [
       "<matplotlib.collections.QuadMesh at 0x7f4a7f319f98>"
      ]
     },
     "execution_count": 19,
     "metadata": {},
     "output_type": "execute_result"
    },
    {
     "data": {
      "image/png": "[encoded data removed]",
      "text/plain": [
       "<Figure size 432x288 with 1 Axes>"
      ]
     },
     "metadata": {
      "needs_background": "light"
     },
     "output_type": "display_data"
    }
   ],
   "source": [
    "# linkage = complete-link\n",
    "\n",
    "agglo = sk_cluster.AgglomerativeClustering(linkage = 'complete', n_clusters = 3)\n",
    "agglo_labels = agglo.fit_predict(X.toarray())\n",
    "\n",
    "mapped_agglo_labels,C_agglo = cluster_class_mapping(agglo_labels,true_labels)\n",
    "print(C_agglo)\n",
    "plt.pcolormesh(C_agglo, cmap=plt.cm.Reds)"
   ]
  },
  {
   "cell_type": "code",
   "execution_count": 20,
   "metadata": {},
   "outputs": [
    {
     "name": "stdout",
     "output_type": "stream",
     "text": [
      "Precision per cluster\n",
      " [0.92723181 0.96846255 0.88628763]\n",
      "\n",
      "Recall per cluster\n",
      " [0.98251192 0.89225182 0.87651599]\n",
      "\n",
      "Weighted Precision\n",
      " 0.9262021251624218\n",
      "\n",
      "Weighted Recall\n",
      " 0.9254429956536275\n"
     ]
    }
   ],
   "source": [
    "# precision metric per cluster\n",
    "precision_per_cluster_3 = metrics.precision_score(true_labels,mapped_agglo_labels, average=None)\n",
    "print(\"Precision per cluster\\n\",precision_per_cluster_3)\n",
    "\n",
    "# recall metric per cluster\n",
    "recall_per_cluster_3 = metrics.recall_score(true_labels,mapped_agglo_labels, average = None)\n",
    "print(\"\\nRecall per cluster\\n\",recall_per_cluster_3)\n",
    "\n",
    "data_per_cluster.append((\"Agglomerative - Complete\",precision_per_cluster_3[0],precision_per_cluster_3[1],precision_per_cluster_3[2],\n",
    "                        recall_per_cluster_3[0],recall_per_cluster_3[1],recall_per_cluster_3[2]))\n",
    "\n",
    "# total precision\n",
    "precision_total_3 = metrics.precision_score(true_labels,mapped_agglo_labels, average='weighted')\n",
    "print(\"\\nWeighted Precision\\n\",precision_total_3)\n",
    "\n",
    "# total recall\n",
    "recall_total_3 = metrics.recall_score(true_labels,mapped_agglo_labels, average = 'weighted')\n",
    "print(\"\\nWeighted Recall\\n\",recall_total_3)\n",
    "\n",
    "data_total.append((\"Agglomerative - Complete\",precision_total_3,recall_total_3))"
   ]
  },
  {
   "cell_type": "markdown",
   "metadata": {},
   "source": [
    "### Agglomerative clustering - Average"
   ]
  },
  {
   "cell_type": "code",
   "execution_count": 21,
   "metadata": {},
   "outputs": [
    {
     "name": "stdout",
     "output_type": "stream",
     "text": [
      "[[1258   64  905]\n",
      " [   0  762    1]\n",
      " [   0    0    1]]\n"
     ]
    },
    {
     "data": {
      "text/plain": [
       "<matplotlib.collections.QuadMesh at 0x7f4a7f2d07f0>"
      ]
     },
     "execution_count": 21,
     "metadata": {},
     "output_type": "execute_result"
    },
    {
     "data": {
      "image/png": "[encoded data removed]",
      "text/plain": [
       "<Figure size 432x288 with 1 Axes>"
      ]
     },
     "metadata": {
      "needs_background": "light"
     },
     "output_type": "display_data"
    }
   ],
   "source": [
    "# linkage = average\n",
    "\n",
    "agglo = sk_cluster.AgglomerativeClustering(linkage = 'average', n_clusters = 3)\n",
    "agglo_labels = agglo.fit_predict(X.toarray())\n",
    "\n",
    "mapped_agglo_labels,C_agglo = cluster_class_mapping(agglo_labels,true_labels)\n",
    "print(C_agglo)\n",
    "plt.pcolormesh(C_agglo, cmap=plt.cm.Reds)"
   ]
  },
  {
   "cell_type": "code",
   "execution_count": 22,
   "metadata": {},
   "outputs": [
    {
     "name": "stdout",
     "output_type": "stream",
     "text": [
      "Precision per cluster\n",
      " [0.5648855  0.99868938 1.        ]\n",
      "\n",
      "Recall per cluster\n",
      " [1.         0.92251816 0.00110254]\n",
      "\n",
      "Weighted Precision\n",
      " 0.8166310215282961\n",
      "\n",
      "Weighted Recall\n",
      " 0.6756937479103978\n"
     ]
    }
   ],
   "source": [
    "# precision metric per cluster\n",
    "precision_per_cluster_4 = metrics.precision_score(true_labels,mapped_agglo_labels, average=None)\n",
    "print(\"Precision per cluster\\n\",precision_per_cluster_4)\n",
    "\n",
    "# recall metric per cluster\n",
    "recall_per_cluster_4 = metrics.recall_score(true_labels,mapped_agglo_labels, average = None)\n",
    "print(\"\\nRecall per cluster\\n\",recall_per_cluster_4)\n",
    "\n",
    "data_per_cluster.append((\"Agglomerative - Average\",precision_per_cluster_4[0],precision_per_cluster_4[1],precision_per_cluster_4[2],\n",
    "                        recall_per_cluster_4[0],recall_per_cluster_4[1],recall_per_cluster_4[2]))\n",
    "\n",
    "# total precision\n",
    "precision_total_4 = metrics.precision_score(true_labels,mapped_agglo_labels, average='weighted')\n",
    "print(\"\\nWeighted Precision\\n\",precision_total_4)\n",
    "\n",
    "# total recall\n",
    "recall_total_4 = metrics.recall_score(true_labels,mapped_agglo_labels, average = 'weighted')\n",
    "print(\"\\nWeighted Recall\\n\",recall_total_4)\n",
    "\n",
    "data_total.append((\"Agglomerative - Average\",precision_total_4,recall_total_4))"
   ]
  },
  {
   "cell_type": "markdown",
   "metadata": {},
   "source": [
    "### Agglomerative clustering - Ward"
   ]
  },
  {
   "cell_type": "code",
   "execution_count": 23,
   "metadata": {},
   "outputs": [
    {
     "name": "stdout",
     "output_type": "stream",
     "text": [
      "[[1245    7  103]\n",
      " [   0  211    0]\n",
      " [  13  608  804]]\n"
     ]
    },
    {
     "data": {
      "text/plain": [
       "<matplotlib.collections.QuadMesh at 0x7f4a7f4cbe48>"
      ]
     },
     "execution_count": 23,
     "metadata": {},
     "output_type": "execute_result"
    },
    {
     "data": {
      "image/png": "[encoded data removed]",
      "text/plain": [
       "<Figure size 432x288 with 1 Axes>"
      ]
     },
     "metadata": {
      "needs_background": "light"
     },
     "output_type": "display_data"
    }
   ],
   "source": [
    "# linkage = ward\n",
    "\n",
    "agglo = sk_cluster.AgglomerativeClustering(linkage = 'ward', n_clusters = 3)\n",
    "agglo_labels = agglo.fit_predict(X.toarray())\n",
    "\n",
    "mapped_agglo_labels,C_agglo = cluster_class_mapping(agglo_labels,true_labels)\n",
    "print(C_agglo)\n",
    "plt.pcolormesh(C_agglo, cmap=plt.cm.Reds)"
   ]
  },
  {
   "cell_type": "code",
   "execution_count": 24,
   "metadata": {},
   "outputs": [
    {
     "name": "stdout",
     "output_type": "stream",
     "text": [
      "Precision per cluster\n",
      " [0.91881919 1.         0.56421053]\n",
      "\n",
      "Recall per cluster\n",
      " [0.98966614 0.25544794 0.88643881]\n",
      "\n",
      "Weighted Precision\n",
      " 0.8337056122078932\n",
      "\n",
      "Weighted Recall\n",
      " 0.7556001337345369\n"
     ]
    }
   ],
   "source": [
    "# precision metric per cluster\n",
    "precision_per_cluster_5 = metrics.precision_score(true_labels,mapped_agglo_labels, average=None)\n",
    "print(\"Precision per cluster\\n\",precision_per_cluster_5)\n",
    "\n",
    "# recall metric per cluster\n",
    "recall_per_cluster_5 = metrics.recall_score(true_labels,mapped_agglo_labels, average = None)\n",
    "print(\"\\nRecall per cluster\\n\",recall_per_cluster_5)\n",
    "\n",
    "data_per_cluster.append((\"Agglomerative - Ward\",precision_per_cluster_5[0],precision_per_cluster_5[1],precision_per_cluster_5[2],\n",
    "                        recall_per_cluster_5[0],recall_per_cluster_5[1],recall_per_cluster_5[2]))\n",
    "\n",
    "# total precision\n",
    "precision_total_5 = metrics.precision_score(true_labels,mapped_agglo_labels, average='weighted')\n",
    "print(\"\\nWeighted Precision\\n\",precision_total_5)\n",
    "\n",
    "# total recall\n",
    "recall_total_5 = metrics.recall_score(true_labels,mapped_agglo_labels, average = 'weighted')\n",
    "print(\"\\nWeighted Recall\\n\",recall_total_5)\n",
    "\n",
    "data_total.append((\"Agglomerative - Ward\",precision_total_5,recall_total_5))"
   ]
  },
  {
   "cell_type": "code",
   "execution_count": 25,
   "metadata": {},
   "outputs": [
    {
     "data": {
      "text/html": [
       "<div>\n",
       "<style scoped>\n",
       "    .dataframe tbody tr th:only-of-type {\n",
       "        vertical-align: middle;\n",
       "    }\n",
       "\n",
       "    .dataframe tbody tr th {\n",
       "        vertical-align: top;\n",
       "    }\n",
       "\n",
       "    .dataframe thead th {\n",
       "        text-align: right;\n",
       "    }\n",
       "</style>\n",
       "<table border=\"1\" class=\"dataframe\">\n",
       "  <thead>\n",
       "    <tr style=\"text-align: right;\">\n",
       "      <th></th>\n",
       "      <th>clustering</th>\n",
       "      <th>(precision_per_cluster,</th>\n",
       "      <th>precision_per_cluster,</th>\n",
       "      <th>precision_per_cluster)</th>\n",
       "      <th>(recall_per_cluster,</th>\n",
       "      <th>recall_per_cluster,</th>\n",
       "      <th>recall_per_cluster)</th>\n",
       "    </tr>\n",
       "  </thead>\n",
       "  <tbody>\n",
       "    <tr>\n",
       "      <th>0</th>\n",
       "      <td>K-means</td>\n",
       "      <td>0.969099</td>\n",
       "      <td>1.000000</td>\n",
       "      <td>0.652954</td>\n",
       "      <td>0.897456</td>\n",
       "      <td>0.592010</td>\n",
       "      <td>0.962514</td>\n",
       "    </tr>\n",
       "    <tr>\n",
       "      <th>1</th>\n",
       "      <td>Agglomerative - Single</td>\n",
       "      <td>0.421017</td>\n",
       "      <td>0.000000</td>\n",
       "      <td>1.000000</td>\n",
       "      <td>1.000000</td>\n",
       "      <td>0.000000</td>\n",
       "      <td>0.003308</td>\n",
       "    </tr>\n",
       "    <tr>\n",
       "      <th>2</th>\n",
       "      <td>Agglomerative - Complete</td>\n",
       "      <td>0.927232</td>\n",
       "      <td>0.968463</td>\n",
       "      <td>0.886288</td>\n",
       "      <td>0.982512</td>\n",
       "      <td>0.892252</td>\n",
       "      <td>0.876516</td>\n",
       "    </tr>\n",
       "    <tr>\n",
       "      <th>3</th>\n",
       "      <td>Agglomerative - Average</td>\n",
       "      <td>0.564885</td>\n",
       "      <td>0.998689</td>\n",
       "      <td>1.000000</td>\n",
       "      <td>1.000000</td>\n",
       "      <td>0.922518</td>\n",
       "      <td>0.001103</td>\n",
       "    </tr>\n",
       "    <tr>\n",
       "      <th>4</th>\n",
       "      <td>Agglomerative - Ward</td>\n",
       "      <td>0.918819</td>\n",
       "      <td>1.000000</td>\n",
       "      <td>0.564211</td>\n",
       "      <td>0.989666</td>\n",
       "      <td>0.255448</td>\n",
       "      <td>0.886439</td>\n",
       "    </tr>\n",
       "  </tbody>\n",
       "</table>\n",
       "</div>"
      ],
      "text/plain": [
       "                 clustering  (precision_per_cluster,  precision_per_cluster,  \\\n",
       "0                   K-means                 0.969099                1.000000   \n",
       "1    Agglomerative - Single                 0.421017                0.000000   \n",
       "2  Agglomerative - Complete                 0.927232                0.968463   \n",
       "3   Agglomerative - Average                 0.564885                0.998689   \n",
       "4      Agglomerative - Ward                 0.918819                1.000000   \n",
       "\n",
       "   precision_per_cluster)  (recall_per_cluster,  recall_per_cluster,  \\\n",
       "0                0.652954              0.897456             0.592010   \n",
       "1                1.000000              1.000000             0.000000   \n",
       "2                0.886288              0.982512             0.892252   \n",
       "3                1.000000              1.000000             0.922518   \n",
       "4                0.564211              0.989666             0.255448   \n",
       "\n",
       "   recall_per_cluster)  \n",
       "0             0.962514  \n",
       "1             0.003308  \n",
       "2             0.876516  \n",
       "3             0.001103  \n",
       "4             0.886439  "
      ]
     },
     "execution_count": 25,
     "metadata": {},
     "output_type": "execute_result"
    }
   ],
   "source": [
    "df_per_cluster = pd.DataFrame(data=data_per_cluster,columns=[\"clustering\",\"(precision_per_cluster,\",\"precision_per_cluster,\",\"precision_per_cluster)\",\n",
    "                            \"(recall_per_cluster,\",\"recall_per_cluster,\",\"recall_per_cluster)\"])\n",
    "df_per_cluster"
   ]
  },
  {
   "cell_type": "markdown",
   "metadata": {},
   "source": [
    "- K-Means:\n",
    "\n",
    "    - Precision per cluster:\n",
    "    The first two clusters are good enough (best value is 1 and the worst value is 0) and the third is not good - the matching is wrong.\n",
    "\n",
    "    - Recall per cluster:\n",
    "    First and third clusters are good, while second isn't. \n",
    "\n",
    "\n",
    "- Agglomerative clustering - Single:\n",
    "\n",
    "    - Precision per cluster:\n",
    "    Uses the minimum of the distances between all observations of the two sets, only the third cluster seems to be good, with a score of 1 (best value). First cluster value is low while second cluster has value zero(worst value), the matching is completly wrong. \n",
    "    \n",
    "    - Recall per cluster:\n",
    "    Only the first cluster has high values and the other clusters are zero. Very bad.\n",
    "    \n",
    "    \n",
    "    \n",
    "- Agglomerative clustering - Complete:\n",
    "\n",
    "    - Precision per cluster:\n",
    "    Uses the maximum distances between all observations of the two sets, all the three clusters have high values, so most elements of each cluster are matched correctly.\n",
    "    - Recall per cluster:\n",
    "    Same as precision per cluster, all clusters have high values, meaning the matching is excellent.\n",
    "    Best clustering results for confusion matrix, precision and recall so far - about the matching.\n",
    "    \n",
    "    \n",
    "- Agglomerative clustering - Average:\n",
    "\n",
    "    - Precision per cluster:\n",
    "    Uses the average of the distances of each observation of the two sets, second and third clusters are ~1, first cluster has middle value.\n",
    "    - Recall per cluster:\n",
    "    First and second clusters are good, while third has the worst value zero.\n",
    "    \n",
    "\n",
    "- Agglomerative clustering - Ward:\n",
    "\n",
    "    - Precision per cluster:\n",
    "    Minimizes the variance of the clusters being merged, first and second clusters are good while third not so good.\n",
    "    - Recall per cluster:\n",
    "    While at precision the first and second clusters are good, now at recall per cluster, first and third clusters matching are ok and second isn't.\n",
    "    \n",
    "    \n",
    "Based on above results the best clustering with high values is Agglomerative clustering - Complete."
   ]
  },
  {
   "cell_type": "code",
   "execution_count": 26,
   "metadata": {},
   "outputs": [
    {
     "data": {
      "text/html": [
       "<div>\n",
       "<style scoped>\n",
       "    .dataframe tbody tr th:only-of-type {\n",
       "        vertical-align: middle;\n",
       "    }\n",
       "\n",
       "    .dataframe tbody tr th {\n",
       "        vertical-align: top;\n",
       "    }\n",
       "\n",
       "    .dataframe thead th {\n",
       "        text-align: right;\n",
       "    }\n",
       "</style>\n",
       "<table border=\"1\" class=\"dataframe\">\n",
       "  <thead>\n",
       "    <tr style=\"text-align: right;\">\n",
       "      <th></th>\n",
       "      <th>clustering</th>\n",
       "      <th>weighted_precision</th>\n",
       "      <th>weighted_recall</th>\n",
       "    </tr>\n",
       "  </thead>\n",
       "  <tbody>\n",
       "    <tr>\n",
       "      <th>0</th>\n",
       "      <td>K-means</td>\n",
       "      <td>0.881764</td>\n",
       "      <td>0.832832</td>\n",
       "    </tr>\n",
       "    <tr>\n",
       "      <th>1</th>\n",
       "      <td>Agglomerative - Single</td>\n",
       "      <td>0.480321</td>\n",
       "      <td>0.421598</td>\n",
       "    </tr>\n",
       "    <tr>\n",
       "      <th>2</th>\n",
       "      <td>Agglomerative - Complete</td>\n",
       "      <td>0.926202</td>\n",
       "      <td>0.925443</td>\n",
       "    </tr>\n",
       "    <tr>\n",
       "      <th>3</th>\n",
       "      <td>Agglomerative - Average</td>\n",
       "      <td>0.816631</td>\n",
       "      <td>0.675694</td>\n",
       "    </tr>\n",
       "    <tr>\n",
       "      <th>4</th>\n",
       "      <td>Agglomerative - Ward</td>\n",
       "      <td>0.833706</td>\n",
       "      <td>0.755600</td>\n",
       "    </tr>\n",
       "  </tbody>\n",
       "</table>\n",
       "</div>"
      ],
      "text/plain": [
       "                 clustering  weighted_precision  weighted_recall\n",
       "0                   K-means            0.881764         0.832832\n",
       "1    Agglomerative - Single            0.480321         0.421598\n",
       "2  Agglomerative - Complete            0.926202         0.925443\n",
       "3   Agglomerative - Average            0.816631         0.675694\n",
       "4      Agglomerative - Ward            0.833706         0.755600"
      ]
     },
     "execution_count": 26,
     "metadata": {},
     "output_type": "execute_result"
    }
   ],
   "source": [
    "df_total = pd.DataFrame(data=data_total,columns=[\"clustering\",\"weighted_precision\",\"weighted_recall\"])\n",
    "df_total"
   ]
  },
  {
   "cell_type": "markdown",
   "metadata": {},
   "source": [
    "Now we see that the Complete Agglomerative Clustering has the high values in term of precision and recall(best way to do the clustering)."
   ]
  },
  {
   "cell_type": "markdown",
   "metadata": {},
   "source": [
    "# It is possible that the texts are not clustered in a way that agrees with the categories, so using K-Means and Silhouette plot to find out."
   ]
  },
  {
   "cell_type": "code",
   "execution_count": 27,
   "metadata": {},
   "outputs": [
    {
     "data": {
      "text/plain": [
       "Text(0, 0.5, 'Error')"
      ]
     },
     "execution_count": 27,
     "metadata": {},
     "output_type": "execute_result"
    },
    {
     "data": {
      "image/png": "[encoded data removed]",
      "text/plain": [
       "<Figure size 432x288 with 1 Axes>"
      ]
     },
     "metadata": {
      "needs_background": "light"
     },
     "output_type": "display_data"
    }
   ],
   "source": [
    "error = np.zeros(11)\n",
    "sh_score = np.zeros(11)\n",
    "for k in range(1,11):\n",
    "    kmeans = sk_cluster.KMeans(init='k-means++', n_clusters=k, n_init=10)\n",
    "    kmeans.fit_predict(X)\n",
    "    error[k] = kmeans.inertia_\n",
    "    if k>1: sh_score[k]= metrics.silhouette_score(X, kmeans.labels_)\n",
    "\n",
    "plt.plot(range(1,len(error)),error[1:])\n",
    "plt.xlabel('Number of clusters')\n",
    "plt.ylabel('Error')"
   ]
  },
  {
   "cell_type": "code",
   "execution_count": 28,
   "metadata": {},
   "outputs": [
    {
     "data": {
      "text/plain": [
       "Text(0, 0.5, 'silhouette score')"
      ]
     },
     "execution_count": 28,
     "metadata": {},
     "output_type": "execute_result"
    },
    {
     "data": {
      "image/png": "[encoded data removed]",
      "text/plain": [
       "<Figure size 432x288 with 1 Axes>"
      ]
     },
     "metadata": {
      "needs_background": "light"
     },
     "output_type": "display_data"
    }
   ],
   "source": [
    "plt.plot(range(2,len(sh_score)),sh_score[2:])\n",
    "plt.xlabel('Number of clusters')\n",
    "plt.ylabel('silhouette score')"
   ]
  },
  {
   "cell_type": "markdown",
   "metadata": {},
   "source": [
    "### K-Means, n_clusters=7\n",
    "Based on results of silhouette score, we choose n_clusters = 7"
   ]
  },
  {
   "cell_type": "code",
   "execution_count": 40,
   "metadata": {},
   "outputs": [
    {
     "name": "stdout",
     "output_type": "stream",
     "text": [
      "\n",
      "Cluster labels\n",
      "[4 0 6 ... 5 2 0]\n",
      "\n",
      " Cluster Centroids\n",
      "[[9.76364174e-04 3.19703823e-04 4.97896940e-04 ... 7.74212051e-04\n",
      "  2.49215989e-04 5.23292844e-04]\n",
      " [0.00000000e+00 3.95468369e-04 3.05014954e-04 ... 1.02653982e-03\n",
      "  1.68211478e-05 0.00000000e+00]\n",
      " [3.49658917e-04 4.97499589e-04 2.81263009e-04 ... 1.21927350e-03\n",
      "  5.14253619e-04 1.12040412e-04]\n",
      " ...\n",
      " [1.33880528e-03 5.16638159e-04 3.86235065e-04 ... 4.51527513e-04\n",
      "  4.23733992e-04 4.12729353e-03]\n",
      " [1.84760467e-04 4.17878417e-04 3.38591015e-04 ... 2.75238292e-03\n",
      "  5.20212116e-04 3.36587088e-04]\n",
      " [7.98576868e-05 2.39142007e-04 8.83856296e-05 ... 1.98699844e-03\n",
      "  2.22585359e-04 0.00000000e+00]]\n"
     ]
    }
   ],
   "source": [
    "kmeans = sk_cluster.KMeans(n_clusters=7, init='k-means++', n_init=10)\n",
    "kmeans.fit_predict(X)\n",
    "\n",
    "centroids = kmeans.cluster_centers_\n",
    "kmeans_labels = kmeans.labels_\n",
    "\n",
    "print ('\\nCluster labels')\n",
    "print(kmeans_labels)\n",
    "print ('\\n Cluster Centroids')\n",
    "print (centroids)"
   ]
  },
  {
   "cell_type": "code",
   "execution_count": 41,
   "metadata": {
    "scrolled": true
   },
   "outputs": [
    {
     "name": "stdout",
     "output_type": "stream",
     "text": [
      "Top 20 terms per cluster:\n",
      "Cluster 0:\n",
      " food\n",
      " beer\n",
      " pub\n",
      " bar\n",
      " wings\n",
      " fries\n",
      " burger\n",
      " patio\n",
      " menu\n",
      " drinks\n",
      " ordered\n",
      " chicken\n",
      " server\n",
      " night\n",
      " beers\n",
      " drink\n",
      " table\n",
      " cheese\n",
      " nachos\n",
      " waitress\n",
      "Cluster 1:\n",
      " hair\n",
      " cut\n",
      " salon\n",
      " haircut\n",
      " stylist\n",
      " barber\n",
      " appointment\n",
      " colour\n",
      " stylists\n",
      " cuts\n",
      " job\n",
      " barbers\n",
      " trim\n",
      " blow\n",
      " style\n",
      " highlights\n",
      " haircuts\n",
      " wash\n",
      " salons\n",
      " cutting\n",
      "Cluster 2:\n",
      " store\n",
      " shop\n",
      " buy\n",
      " stores\n",
      " bike\n",
      " selection\n",
      " items\n",
      " sales\n",
      " products\n",
      " shopping\n",
      " helpful\n",
      " stuff\n",
      " bought\n",
      " clothes\n",
      " dress\n",
      " shoes\n",
      " sale\n",
      " help\n",
      " clothing\n",
      " books\n"
     ]
    }
   ],
   "source": [
    "print(\"Top 20 terms per cluster:\")\n",
    "asc_order_centroids = kmeans.cluster_centers_.argsort()#[:, ::-1]\n",
    "order_centroids = asc_order_centroids[:,::-1]\n",
    "terms = vectorizer.get_feature_names()\n",
    "for i in range(3):\n",
    "    print (\"Cluster %d:\" % i)\n",
    "    for ind in order_centroids[i, :20]:\n",
    "        print (' %s' % terms[ind])\n",
    "    print"
   ]
  },
  {
   "cell_type": "code",
   "execution_count": 42,
   "metadata": {},
   "outputs": [
    {
     "name": "stdout",
     "output_type": "stream",
     "text": [
      "[[1252    7   67]\n",
      " [   0  713    0]\n",
      " [   6  106  840]]\n"
     ]
    },
    {
     "data": {
      "text/plain": [
       "<matplotlib.collections.QuadMesh at 0x7f4a7f3238d0>"
      ]
     },
     "execution_count": 42,
     "metadata": {},
     "output_type": "execute_result"
    },
    {
     "data": {
      "image/png": "[encoded data removed]",
      "text/plain": [
       "<Figure size 432x288 with 1 Axes>"
      ]
     },
     "metadata": {
      "needs_background": "light"
     },
     "output_type": "display_data"
    }
   ],
   "source": [
    "mapped_kmeans_labels_c,C = cluster_class_mapping(kmeans_labels,true_labels)\n",
    "print(C)\n",
    "plt.pcolormesh(C, cmap=plt.cm.Reds)"
   ]
  },
  {
   "cell_type": "markdown",
   "metadata": {},
   "source": [
    "From the confusion matrix, it is clear to say that the cluster is good. At first line, the first cluster has elements from class 1 and less from other classes. Second cluster has almost all elements from class 2 and same goes for third cluster.Per columns, most elements of class 1 are in cluster 1, second class in cluster 2 and third class to cluster 3.\n",
    "We can say it is a good clustering."
   ]
  },
  {
   "cell_type": "code",
   "execution_count": 43,
   "metadata": {},
   "outputs": [
    {
     "name": "stdout",
     "output_type": "stream",
     "text": [
      "Precision per cluster\n",
      " [0.94419306 1.         0.88235294]\n",
      "\n",
      "Recall per cluster\n",
      " [0.99523052 0.86319613 0.9261301 ]\n",
      "\n",
      "Weighted Precision\n",
      " 0.9408522198067304\n",
      "\n",
      "Weighted Recall\n",
      " 0.9378134403209629\n"
     ]
    }
   ],
   "source": [
    "# precision metric per cluster\n",
    "precision_per_cluster_c = metrics.precision_score(true_labels,mapped_kmeans_labels_c, average=None)\n",
    "print(\"Precision per cluster\\n\",precision_per_cluster_c)\n",
    "\n",
    "# recall metric per cluster\n",
    "recall_per_cluster_c = metrics.recall_score(true_labels,mapped_kmeans_labels_c, average = None)\n",
    "print(\"\\nRecall per cluster\\n\",recall_per_cluster_c)\n",
    "\n",
    "data_kmeans.append((\"K-means, n_clusters=7\",precision_per_cluster_c[0],precision_per_cluster_c[1],precision_per_cluster_c[2],\n",
    "                    recall_per_cluster_c[0],recall_per_cluster_c[1],recall_per_cluster_c[2]))\n",
    "\n",
    "# total precision\n",
    "precision_total_c = metrics.precision_score(true_labels,mapped_kmeans_labels_c, average='weighted')\n",
    "print(\"\\nWeighted Precision\\n\",precision_total_c)\n",
    "\n",
    "# total recall\n",
    "recall_total_c = metrics.recall_score(true_labels,mapped_kmeans_labels_c, average = 'weighted')\n",
    "print(\"\\nWeighted Recall\\n\",recall_total_c)\n",
    "\n",
    "data_kmeans_total.append((\"K-means, n_clusters=7\",precision_total_c,recall_total_c))"
   ]
  },
  {
   "cell_type": "code",
   "execution_count": 44,
   "metadata": {},
   "outputs": [
    {
     "data": {
      "text/html": [
       "<div>\n",
       "<style scoped>\n",
       "    .dataframe tbody tr th:only-of-type {\n",
       "        vertical-align: middle;\n",
       "    }\n",
       "\n",
       "    .dataframe tbody tr th {\n",
       "        vertical-align: top;\n",
       "    }\n",
       "\n",
       "    .dataframe thead th {\n",
       "        text-align: right;\n",
       "    }\n",
       "</style>\n",
       "<table border=\"1\" class=\"dataframe\">\n",
       "  <thead>\n",
       "    <tr style=\"text-align: right;\">\n",
       "      <th></th>\n",
       "      <th>clustering</th>\n",
       "      <th>(precision_per_cluster,</th>\n",
       "      <th>precision_per_cluster,</th>\n",
       "      <th>precision_per_cluster)</th>\n",
       "      <th>(recall_per_cluster,</th>\n",
       "      <th>recall_per_cluster,</th>\n",
       "      <th>recall_per_cluster)</th>\n",
       "    </tr>\n",
       "  </thead>\n",
       "  <tbody>\n",
       "    <tr>\n",
       "      <th>0</th>\n",
       "      <td>K-means, n_clusters=3</td>\n",
       "      <td>0.969099</td>\n",
       "      <td>1.0</td>\n",
       "      <td>0.652954</td>\n",
       "      <td>0.897456</td>\n",
       "      <td>0.592010</td>\n",
       "      <td>0.962514</td>\n",
       "    </tr>\n",
       "    <tr>\n",
       "      <th>1</th>\n",
       "      <td>K-means, n_clusters=7</td>\n",
       "      <td>0.944193</td>\n",
       "      <td>1.0</td>\n",
       "      <td>0.882353</td>\n",
       "      <td>0.995231</td>\n",
       "      <td>0.863196</td>\n",
       "      <td>0.926130</td>\n",
       "    </tr>\n",
       "  </tbody>\n",
       "</table>\n",
       "</div>"
      ],
      "text/plain": [
       "              clustering  (precision_per_cluster,  precision_per_cluster,  \\\n",
       "0  K-means, n_clusters=3                 0.969099                     1.0   \n",
       "1  K-means, n_clusters=7                 0.944193                     1.0   \n",
       "\n",
       "   precision_per_cluster)  (recall_per_cluster,  recall_per_cluster,  \\\n",
       "0                0.652954              0.897456             0.592010   \n",
       "1                0.882353              0.995231             0.863196   \n",
       "\n",
       "   recall_per_cluster)  \n",
       "0             0.962514  \n",
       "1             0.926130  "
      ]
     },
     "execution_count": 44,
     "metadata": {},
     "output_type": "execute_result"
    }
   ],
   "source": [
    "df_per_cluster = pd.DataFrame(data=data_kmeans,columns=[\"clustering\",\"(precision_per_cluster,\",\"precision_per_cluster,\",\"precision_per_cluster)\",\n",
    "                            \"(recall_per_cluster,\",\"recall_per_cluster,\",\"recall_per_cluster)\"])\n",
    "df_per_cluster"
   ]
  },
  {
   "cell_type": "markdown",
   "metadata": {},
   "source": [
    "K-Means with number of clusters = 7, compared to number of clusters = 3, results are way better, each cluster seems to be matched with correct class it belongs to."
   ]
  },
  {
   "cell_type": "code",
   "execution_count": 45,
   "metadata": {},
   "outputs": [
    {
     "data": {
      "text/html": [
       "<div>\n",
       "<style scoped>\n",
       "    .dataframe tbody tr th:only-of-type {\n",
       "        vertical-align: middle;\n",
       "    }\n",
       "\n",
       "    .dataframe tbody tr th {\n",
       "        vertical-align: top;\n",
       "    }\n",
       "\n",
       "    .dataframe thead th {\n",
       "        text-align: right;\n",
       "    }\n",
       "</style>\n",
       "<table border=\"1\" class=\"dataframe\">\n",
       "  <thead>\n",
       "    <tr style=\"text-align: right;\">\n",
       "      <th></th>\n",
       "      <th>clustering</th>\n",
       "      <th>weighted_precision</th>\n",
       "      <th>weighted_recall</th>\n",
       "    </tr>\n",
       "  </thead>\n",
       "  <tbody>\n",
       "    <tr>\n",
       "      <th>0</th>\n",
       "      <td>K-means, n_clusters=3</td>\n",
       "      <td>0.881764</td>\n",
       "      <td>0.832832</td>\n",
       "    </tr>\n",
       "    <tr>\n",
       "      <th>1</th>\n",
       "      <td>K-means, n_clusters=7</td>\n",
       "      <td>0.940852</td>\n",
       "      <td>0.937813</td>\n",
       "    </tr>\n",
       "  </tbody>\n",
       "</table>\n",
       "</div>"
      ],
      "text/plain": [
       "              clustering  weighted_precision  weighted_recall\n",
       "0  K-means, n_clusters=3            0.881764         0.832832\n",
       "1  K-means, n_clusters=7            0.940852         0.937813"
      ]
     },
     "execution_count": 45,
     "metadata": {},
     "output_type": "execute_result"
    }
   ],
   "source": [
    "df_total = pd.DataFrame(data=data_kmeans_total,columns=[\"clustering\",\"weighted_precision\",\"weighted_recall\"])\n",
    "df_total"
   ]
  },
  {
   "cell_type": "markdown",
   "metadata": {},
   "source": [
    "As number of clusters = 7, the weighted precision and recall are getting high values than before"
   ]
  }
 ],
 "metadata": {
  "kernelspec": {
   "display_name": "Python 3",
   "language": "python",
   "name": "python3"
  },
  "language_info": {
   "codemirror_mode": {
    "name": "ipython",
    "version": 3
   },
   "file_extension": ".py",
   "mimetype": "text/x-python",
   "name": "python",
   "nbconvert_exporter": "python",
   "pygments_lexer": "ipython3",
   "version": "3.8.10"
  }
 },
 "nbformat": 4,
 "nbformat_minor": 4
}
